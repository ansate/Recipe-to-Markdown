{
 "metadata": {
  "name": "All Recipes"
 },
 "nbformat": 3,
 "nbformat_minor": 0,
 "worksheets": [
  {
   "cells": [
    {
     "cell_type": "code",
     "collapsed": false,
     "input": [
      "import subprocess\n",
      "import urllib2\n",
      "from bs4 import BeautifulSoup\n",
      "import re, string, sys, os"
     ],
     "language": "python",
     "metadata": {},
     "outputs": [],
     "prompt_number": 4
    },
    {
     "cell_type": "code",
     "collapsed": false,
     "input": [
      "recipeDirection = os.path.expanduser(\"~/Dropbox/Text Notes/\")\n",
      "\n",
      "if (len(sys.argv) <= 1):\n",
      "    print \"Please include address as argument.\"\n",
      "    exit()"
     ],
     "language": "python",
     "metadata": {},
     "outputs": [],
     "prompt_number": 8
    },
    {
     "cell_type": "code",
     "collapsed": false,
     "input": [
      "recipeUrl = sys.argv[1]\n",
      "recipeUrl = recipeUrl.split(\"?\")[0]\n",
      "soup = BeautifulSoup(urllib2.urlopen(recipeUrl).read())\n",
      "title = soup.title.string.encode(\"ascii\",'ignore').strip().split(\" - \")[0]\n",
      "fileName = recipeDirection + title + \".txt\""
     ],
     "language": "python",
     "metadata": {},
     "outputs": [],
     "prompt_number": "*"
    },
    {
     "cell_type": "code",
     "collapsed": true,
     "input": [
      "saveout = sys.stdout\n",
      "fsock = open(fileName, 'w')\n",
      "sys.stdout = fsock"
     ],
     "language": "python",
     "metadata": {},
     "outputs": [],
     "prompt_number": 23
    },
    {
     "cell_type": "code",
     "collapsed": false,
     "input": [
      "# Print recipe title\n",
      "print title\n",
      "print"
     ],
     "language": "python",
     "metadata": {},
     "outputs": [
      {
       "output_type": "stream",
       "stream": "stdout",
       "text": [
        "Chicken Quesadillas Recipe\n",
        "\n"
       ]
      }
     ],
     "prompt_number": 102
    },
    {
     "cell_type": "code",
     "collapsed": false,
     "input": [
      "print recipeUrl\n",
      "print "
     ],
     "language": "python",
     "metadata": {},
     "outputs": [
      {
       "output_type": "stream",
       "stream": "stdout",
       "text": [
        "http://allrecipes.com/Recipe/Chicken-Quesadillas/Detail.aspx\n",
        "\n"
       ]
      }
     ],
     "prompt_number": 103
    },
    {
     "cell_type": "code",
     "collapsed": false,
     "input": [
      "print soup.find(\"div\", {\"class\": \"servings\"}).find(\"span\", {\"id\":\"lblYield\"}).string\n",
      "print "
     ],
     "language": "python",
     "metadata": {},
     "outputs": [
      {
       "output_type": "stream",
       "stream": "stdout",
       "text": [
        "20 servings\n",
        "\n"
       ]
      }
     ],
     "prompt_number": 104
    },
    {
     "cell_type": "code",
     "collapsed": false,
     "input": [
      "def getTime(spanName):\n",
      "#    <div id=\"divRecipeTimesContainer\" class=\"right-aside preptime fl-right\">\n",
      "     \n",
      "    find = soup.find(\"div\",{\"id\":\"divRecipeTimesContainer\"}).find(\"span\", {\"id\": spanName})\n",
      "    if find.__class__.__name__ != \"NoneType\":\n",
      "      return \" \" + find.get_text().encode(\"ascii\")\n",
      "    return \"\"\n",
      "\n",
      "print \"* Prep Time  :\" + getTime(\"prepHoursSpan\") + getTime(\"prepMinsSpan\")\n",
      "print \"* Cook Time  :\" + getTime(\"cookHoursSpan\") + getTime(\"cookMinsSpan\")\n",
      "print \"* Total Time :\" + getTime(\"totalHoursSpan\") + getTime(\"totalMinsSpan\")\n",
      "print"
     ],
     "language": "python",
     "metadata": {},
     "outputs": [
      {
       "output_type": "stream",
       "stream": "stdout",
       "text": [
        "* Prep Time  : 30 mins\n",
        "* Cook Time  : 25 mins"
       ]
      },
      {
       "output_type": "stream",
       "stream": "stdout",
       "text": [
        "\n",
        "* Total Time : 55 mins"
       ]
      },
      {
       "output_type": "stream",
       "stream": "stdout",
       "text": [
        "\n",
        "\n"
       ]
      }
     ],
     "prompt_number": 114
    },
    {
     "cell_type": "code",
     "collapsed": false,
     "input": [
      "print \"Ingredients:\"\n",
      "print\n",
      "\n",
      "for s in soup.findAll(\"p\", {\"itemprop\":\"ingredients\"}):\n",
      "    print \"*\", s.get_text().encode(\"ascii\").strip().replace(\"\\n\", \" \")\n",
      "print"
     ],
     "language": "python",
     "metadata": {},
     "outputs": [
      {
       "output_type": "stream",
       "stream": "stdout",
       "text": [
        "Ingredients:\n",
        "\n",
        "*"
       ]
      },
      {
       "output_type": "stream",
       "stream": "stdout",
       "text": [
        " 1 pound skinless, boneless chicken breast, diced\n",
        "* 1 (1.27 ounce) packet fajita seasoning\n",
        "* 1 tablespoon vegetable oil\n",
        "* 2 green bell peppers, chopped\n",
        "* 2 red bell peppers, chopped\n",
        "* 1 onion, chopped\n",
        "* 10 (10 inch) flour tortillas\n",
        "* 1 (8 ounce) package shredded Cheddar cheese\n",
        "* 1 tablespoon bacon bits\n",
        "* 1 (8 ounce) package shredded Monterey Jack cheese\n",
        "\n"
       ]
      }
     ],
     "prompt_number": 115
    },
    {
     "cell_type": "code",
     "collapsed": true,
     "input": [
      "print \"Directions:\"\n",
      "print\n",
      "\n",
      "for i, s in enumerate(soup.findAll(\"span\", {\"class\":\"plaincharacterwrap\"}),1):\n",
      "    print str(i) + \".\", s.get_text().encode(\"ascii\").strip().replace(\"\\n\", \" \")"
     ],
     "language": "python",
     "metadata": {},
     "outputs": [
      {
       "output_type": "stream",
       "stream": "stdout",
       "text": [
        "Directions:\n",
        "\n",
        "1."
       ]
      },
      {
       "output_type": "stream",
       "stream": "stdout",
       "text": [
        " Preheat the broiler. Grease a baking sheet.\n",
        "2. Toss the chicken with the fajita seasoning, then spread onto the baking sheet. Place under the broiler and cook until the chicken pieces are no longer pink in the center, about 5 minutes.\n",
        "3. Preheat oven to 350 degrees F (175 degrees C).\n",
        "4. Heat the oil in a large saucepan over medium heat. Stir in the green bell peppers, red bell peppers, onion, and chicken. Cook and stir until the vegetables have softened, about 10 minutes.\n",
        "5. Layer half of each tortilla with the chicken and vegetable mixture, then sprinkle with the Cheddar cheese, bacon bits, and Monterey Jack. Fold the tortillas in half and Place onto a baking sheet.\n",
        "6. Bake quesadillas in the preheated oven until the cheeses have melted, about 10 minutes.\n"
       ]
      }
     ],
     "prompt_number": 117
    }
   ],
   "metadata": {}
  }
 ]
}