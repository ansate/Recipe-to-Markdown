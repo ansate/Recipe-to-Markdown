{
 "metadata": {
  "name": "Food.com"
 },
 "nbformat": 3,
 "nbformat_minor": 0,
 "worksheets": [
  {
   "cells": [
    {
     "cell_type": "code",
     "collapsed": false,
     "input": [
      "import subprocess\n",
      "import urllib2\n",
      "from bs4 import BeautifulSoup\n",
      "import re, string, sys, os"
     ],
     "language": "python",
     "metadata": {},
     "outputs": [],
     "prompt_number": 10
    },
    {
     "cell_type": "code",
     "collapsed": false,
     "input": [
      "recipeDirection = os.path.expanduser(\"~/Dropbox/Text Notes/\")\n",
      "\n",
      "if (len(sys.argv) <= 1):\n",
      "    print \"Please include address as argument.\"\n",
      "    exit()"
     ],
     "language": "python",
     "metadata": {},
     "outputs": [],
     "prompt_number": 11
    },
    {
     "cell_type": "code",
     "collapsed": false,
     "input": [
      "recipeUrl = sys.argv[1]\n",
      "recipeUrl = recipeUrl.split(\"?\")[0]\n",
      "soup = BeautifulSoup(urllib2.urlopen(recipeUrl).read())\n",
      "title = soup.title.string.encode(\"ascii\",'ignore').strip().split(\" - \")[-3]\n",
      "fileName = recipeDirection + title + \".txt\""
     ],
     "language": "python",
     "metadata": {},
     "outputs": [],
     "prompt_number": 73
    },
    {
     "cell_type": "code",
     "collapsed": false,
     "input": [
      "saveout = sys.stdout\n",
      "fsock = open(fileName, 'w')\n",
      "sys.stdout = fsock"
     ],
     "language": "python",
     "metadata": {},
     "outputs": [],
     "prompt_number": 14
    },
    {
     "cell_type": "code",
     "collapsed": false,
     "input": [
      "# Print recipe title\n",
      "print title\n",
      "print "
     ],
     "language": "python",
     "metadata": {},
     "outputs": [
      {
       "output_type": "stream",
       "stream": "stdout",
       "text": [
        "Sausage With Apple Gravy Slow-Cooker) Recipe\n",
        "\n"
       ]
      }
     ],
     "prompt_number": 4
    },
    {
     "cell_type": "code",
     "collapsed": false,
     "input": [
      "print recipeUrl\n",
      "print "
     ],
     "language": "python",
     "metadata": {},
     "outputs": [
      {
       "output_type": "stream",
       "stream": "stdout",
       "text": [
        "http://www.food.com/recipe/sausage-with-apple-gravy-slow-cooker-480226\n",
        "\n"
       ]
      }
     ],
     "prompt_number": 5
    },
    {
     "cell_type": "code",
     "collapsed": false,
     "input": [
      "print soup.find(\"div\", {\"class\": \"rz-ss-e serviceSize\"}).find(\"input\", {\"id\":\"original_value\"})[\"value\"] + \" servings\"\n",
      "print "
     ],
     "language": "python",
     "metadata": {},
     "outputs": [
      {
       "output_type": "stream",
       "stream": "stdout",
       "text": [
        "8 servings\n",
        "\n"
       ]
      }
     ],
     "prompt_number": 31
    },
    {
     "cell_type": "code",
     "collapsed": false,
     "input": [
      "print \"* Prep Time  : \" + soup.find(\"div\", {\"class\" : \"ct-e\"}).find(\"p\", {\"class\":\"preptime\"}).find(\"meta\")[\"content\"][2:].replace(\"H\", \" hours \").replace(\"M\", \" minutes\")\n",
      "print \"* Cook Time  : \" + soup.find(\"div\", {\"class\" : \"ct-e\"}).find(\"p\", {\"class\":\"cooktime\"}).find(\"meta\")[\"content\"][2:].replace(\"H\", \" hours \").replace(\"M\", \" minutes\")\n",
      "print \"* Total Time : \" + soup.find(\"div\", {\"class\" : \"ct-e\"}).find(\"h3\", {\"class\":\"duration\"}).find(\"meta\")[\"content\"][2:].replace(\"H\", \" hours \").replace(\"M\", \" minutes\")\n",
      "print"
     ],
     "language": "python",
     "metadata": {},
     "outputs": [
      {
       "output_type": "stream",
       "stream": "stdout",
       "text": [
        "* Prep Time  : 15 minutes\n",
        "* Cook Time  : 1 hours \n",
        "* Total Time : 1 hours 15 minutes"
       ]
      },
      {
       "output_type": "stream",
       "stream": "stdout",
       "text": [
        "\n",
        "\n"
       ]
      }
     ],
     "prompt_number": 90
    },
    {
     "cell_type": "code",
     "collapsed": false,
     "input": [
      "def getName(sp):\n",
      "    if x.find(\"span\",{\"class\":\"name\"}).find(\"a\") != None:\n",
      "        return x.find(\"span\",{\"class\":\"name\"}).find(\"a\").string.strip()\n",
      "    else: \n",
      "        return x.find(\"span\",{\"class\":\"name\"}).string.strip()\n",
      "def getAmt(sp):\n",
      "    if x.find(\"span\",{\"class\":\"amount\"}).find(\"span\", {\"class\":\"value\"}).string != None:\n",
      "        return x.find(\"span\",{\"class\":\"amount\"}).find(\"span\", {\"class\":\"value\"}).string.strip()\n",
      "    else: \n",
      "        return ''\n",
      "def getUnit(sp):\n",
      "    if x.find(\"span\",{\"class\":\"amount\"}).find(\"span\", {\"class\":\"type\"}).string != None:\n",
      "        return x.find(\"span\",{\"class\":\"amount\"}).find(\"span\", {\"class\":\"type\"}).string.strip()\n",
      "    else: \n",
      "        return ''\n",
      "\n",
      "print \"Ingredients:\"\n",
      "print\n",
      "\n",
      "    \n",
      "ingredients = [' '.join(\n",
      "    [getAmt(x), \n",
      "    getUnit(x), \n",
      "    getName(x)]) for x in soup.findAll(\"li\",{\"class\":\"ingredient\"})]\n",
      "for s in ingredients:\n",
      "    print \"*\", \n",
      "print"
     ],
     "language": "python",
     "metadata": {},
     "outputs": [
      {
       "output_type": "stream",
       "stream": "stdout",
       "text": [
        "Ingredients:\n",
        "\n",
        "*"
       ]
      },
      {
       "output_type": "stream",
       "stream": "stdout",
       "text": [
        " 4  granny smith apples\n",
        "* 2 medium sweet onions\n",
        "* 2 teaspoons garlic\n",
        "* 1 teaspoon dried thyme leaves\n",
        "* 2 teaspoons parsley flakes\n",
        "* 1/2-1 teaspoon kosher salt\n",
        "* 1/4 cup apple juice\n",
        "* 2 teaspoons butter\n",
        "* 2 lbs smoked sausage\n",
        "* 1 lb egg noodles, cooked\n",
        "\n"
       ]
      }
     ],
     "prompt_number": 69
    },
    {
     "cell_type": "code",
     "collapsed": false,
     "input": [
      "for x in soup.find(\"div\", {\"class\" : \"pod directions\"}).findAll(\"div\",{\"class\":\"txt\"}):\n",
      "    print \"* \" + x.string\n"
     ],
     "language": "python",
     "metadata": {},
     "outputs": [
      {
       "output_type": "stream",
       "stream": "stdout",
       "text": [
        "* Grease and line a 19cm square cake pan.\n",
        "* In a large bowl combine cocoa powder and hot water until smooth.\n",
        "* Add melted chocolate, melted butter, sugar and almonds.\n",
        "* Stir well to combine.\n",
        "* Separate the eggs.\n",
        "* Stir in the egg yolks, one at a time.\n",
        "* Whip egg whites until they stand in soft peaks.\n",
        "* Fold the whites into the chocolate mixture.\n",
        "* Pour into cake pan.\n",
        "* Cook in a moderate oven for approx 1 1/4 hours.\n",
        "* When cooked and cooled, cut into squares and dust with icing sugar.  This is quite rich, so only cut small squares.\n",
        "* N.B This freezes beautifully.\n"
       ]
      }
     ],
     "prompt_number": 95
    }
   ],
   "metadata": {}
  }
 ]
}